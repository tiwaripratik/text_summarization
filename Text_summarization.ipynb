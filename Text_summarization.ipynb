{
 "cells": [
  {
   "cell_type": "code",
   "execution_count": null,
   "id": "8b554511",
   "metadata": {},
   "outputs": [],
   "source": [
    "import streamlit as st\n",
    "from transformers import pipeline\n",
    "\n",
    "@st.cache_resource\n",
    "def load_summarizer():\n",
    "    model = pipeline(\"summarization\", device=0)\n",
    "    return model\n",
    "\n",
    "\n",
    "def generate_chunks(inp_str):\n",
    "    max_chunk = 500\n",
    "    inp_str = inp_str.replace('.', '.<eos>')\n",
    "    inp_str = inp_str.replace('?', '?<eos>')\n",
    "    inp_str = inp_str.replace('!', '!<eos>')\n",
    "    \n",
    "    sentences = inp_str.split('<eos>')\n",
    "    current_chunk = 0 \n",
    "    chunks = []\n",
    "    for sentence in sentences:\n",
    "        if len(chunks) == current_chunk + 1: \n",
    "            if len(chunks[current_chunk]) + len(sentence.split(' ')) <= max_chunk:\n",
    "                chunks[current_chunk].extend(sentence.split(' '))\n",
    "            else:\n",
    "                current_chunk += 1\n",
    "                chunks.append(sentence.split(' '))\n",
    "        else:\n",
    "            chunks.append(sentence.split(' '))\n",
    "\n",
    "    for chunk_id in range(len(chunks)):\n",
    "        chunks[chunk_id] = ' '.join(chunks[chunk_id])\n",
    "    return chunks\n",
    "\n",
    "\n",
    "summarizer = load_summarizer()\n",
    "st.title(\"Summarize Text\")\n",
    "sentence = st.text_area('Please paste your article :', height=30)\n",
    "button = st.button(\"Summarize\")\n",
    "\n",
    "max = st.sidebar.slider('Select max', 50, 500, step=10, value=150)\n",
    "min = st.sidebar.slider('Select min', 10, 450, step=10, value=50)\n",
    "do_sample = st.sidebar.checkbox(\"Do sample\", value=False)\n",
    "with st.spinner(\"Generating Summary..\"):\n",
    "    if button and sentence:\n",
    "        chunks = generate_chunks(sentence)\n",
    "        res = summarizer(chunks,\n",
    "                         max_length=max, \n",
    "                         min_length=min, \n",
    "                         do_sample=do_sample)\n",
    "        text = ' '.join([summ['summary_text'] for summ in res])\n",
    "        # st.write(result[0]['summary_text'])\n",
    "        st.write(text)\n"
   ]
  },
  {
   "cell_type": "code",
   "execution_count": null,
   "id": "d2c08376",
   "metadata": {},
   "outputs": [],
   "source": []
  }
 ],
 "metadata": {
  "kernelspec": {
   "display_name": "Python 3 (ipykernel)",
   "language": "python",
   "name": "python3"
  },
  "language_info": {
   "codemirror_mode": {
    "name": "ipython",
    "version": 3
   },
   "file_extension": ".py",
   "mimetype": "text/x-python",
   "name": "python",
   "nbconvert_exporter": "python",
   "pygments_lexer": "ipython3",
   "version": "3.10.9"
  }
 },
 "nbformat": 4,
 "nbformat_minor": 5
}
